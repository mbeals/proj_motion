{
 "cells": [
  {
   "cell_type": "markdown",
   "metadata": {},
   "source": [
    "# Projectile Motion"
   ]
  },
  {
   "cell_type": "markdown",
   "metadata": {},
   "source": [
    "##### <p style=\"text-align: center;\"> Objective: Analyze the movement of a launched object to determine flight path, speed, and time </p>\n",
    "\n",
    "<img src=\"proj_motion_2.jpg\" alt=\"Drawing\" style=\"width: 400px;\"/>"
   ]
  },
  {
   "cell_type": "markdown",
   "metadata": {},
   "source": [
    "Who created projectile motion analysis?\n",
    "\n",
    "<img src=\"galileo.jpg\" alt=\"Drawing\" style=\"width: 400px;\"/>\n",
    "\n",
    "\n",
    "Galileo, one of the fathers of astronomy, created projectile motion analysis over 400 years ago. This enabled him to create a technology that helped improve the accuracy and effectiveness of military cannons."
   ]
  },
  {
   "cell_type": "markdown",
   "metadata": {},
   "source": [
    "To begin the analysis of projectile motion, air resistance will be neglected. This means all projectiles will follow a parabolic path where the only acting force is gravity.\n",
    "\n",
    "![](files/proj_motion_1.JPG)\n",
    "\n",
    "Galileo realized that projectile motion could be broken into two components: horizontal (x) and vertical (y) that can be analyzed separately."
   ]
  },
  {
   "cell_type": "markdown",
   "metadata": {},
   "source": [
    "## Vertical Component\n",
    "Due to the force of gravity, the object will accelerate downwards throughout its trajectory. This means that its initial velocity will be different from its final velocity.\n",
    "There are 5 variables involved in the vertical component: acceleration, initial velocity, final velocity, altitude (distance travelled vertically), and time\n",
    "$$ \\vec a , \\vec v_i , \\vec v_f , \\vec d , t $$"
   ]
  },
  {
   "cell_type": "markdown",
   "metadata": {},
   "source": [
    "There are 4 kinematic equations where each one contains 4 of the 5 variables listed above. Given 3 of the variables in the question, the other 2 can be found by picking appropriate equations.\n",
    "Note: If the object is initially launched horizontally, then $\\vec v_i $ = 0\n",
    "$$ \\vec d = \\vec v_i t + \\frac12\\ \\vec a t^2 $$\n",
    "\n",
    "$$ \\vec d = \\vec v_f t - \\frac12\\ \\vec a t^2 $$\n",
    "\n",
    "$$ \\vec d = \\frac{\\vec v_f + \\vec v_i}{2} t $$\n",
    "\n",
    "$$ v_f^2 = v_i^2 + 2 a d $$"
   ]
  },
  {
   "cell_type": "markdown",
   "metadata": {},
   "source": [
    "## Horizontal Component\n",
    "There is no force acting horizontally. Therefore there is no acceleration so it is **uniform motion** ($ \\vec v_i = \\vec v_f = \\vec v_x $).\n",
    "Uniform motion is governed by one equation:\n",
    "$$ \\vec v_x = \\frac {\\vec d}{t} $$"
   ]
  },
  {
   "cell_type": "markdown",
   "metadata": {},
   "source": [
    "| Vertical Component| Horizontal Component   |\n",
    "|--------------------|------------------------|\n",
    "|   $\\vec a = g = -9.81 \\frac {m}{s^2}$ | $\\vec a = 0 $ (Uniform motion)|\n",
    "|   Pick appropriate choice from 4 kinematic equations   | 1 equation|\n",
    "<p style=\"text-align: center;\"> **Note: Both components share the same time $t$** </p>"
   ]
  },
  {
   "cell_type": "markdown",
   "metadata": {},
   "source": [
    "## Example\n",
    "**Include example**"
   ]
  },
  {
   "cell_type": "markdown",
   "metadata": {},
   "source": [
    "## Projectile Practice Game\n",
    "**PhET has a good simulator. Decide whether to use it or redesign a new one**"
   ]
  },
  {
   "cell_type": "markdown",
   "metadata": {},
   "source": [
    "<div style=\"position: relative; width: 300px; height: 200px;\"><a href=\"https://phet.colorado.edu/sims/html/projectile-motion/latest/projectile-motion_en.html\" style=\"text-decoration: none;\"><img src=\"https://phet.colorado.edu/sims/html/projectile-motion/latest/projectile-motion-600.png\" alt=\"Projectile Motion\" style=\"border: none;\" width=\"300\" height=\"200\"/><div style=\"position: absolute; width: 200px; height: 80px; left: 50px; top: 60px; background-color: #FFF; opacity: 0.6; filter: alpha(opacity = 60);\"></div><table style=\"position: absolute; width: 200px; height: 80px; left: 50px; top: 60px;\"><tr><td style=\"text-align: center; color: #000; font-size: 24px; font-family: Arial,sans-serif;\">Click to Run</td></tr></table></a></div>"
   ]
  },
  {
   "cell_type": "markdown",
   "metadata": {},
   "source": [
    "## Extension\n",
    "#### Determining the optimal launch angle\n",
    "Challenge student to come up with an equation for the horizontal distance as a function of the initial velocity and angle. Provide hints that guide student into coming up with equation. Include an easy-to-use plotter where student can input equation and find the maximum point so they dont have to do calculus to solve for answer"
   ]
  }
 ],
 "metadata": {
  "kernelspec": {
   "display_name": "Python 3",
   "language": "python",
   "name": "python3"
  },
  "language_info": {
   "codemirror_mode": {
    "name": "ipython",
    "version": 3
   },
   "file_extension": ".py",
   "mimetype": "text/x-python",
   "name": "python",
   "nbconvert_exporter": "python",
   "pygments_lexer": "ipython3",
   "version": "3.6.1"
  }
 },
 "nbformat": 4,
 "nbformat_minor": 2
}
